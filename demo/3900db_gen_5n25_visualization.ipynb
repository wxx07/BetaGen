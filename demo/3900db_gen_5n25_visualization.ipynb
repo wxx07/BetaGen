{
 "cells": [
  {
   "cell_type": "code",
   "execution_count": 2,
   "metadata": {},
   "outputs": [],
   "source": []
  },
  {
   "cell_type": "code",
   "execution_count": null,
   "metadata": {},
   "outputs": [],
   "source": [
    "### 说明\n",
    "# 使用训练好的模型在 PDBid-5n25的复合物结构提取的口袋中进行点云生成\n",
    "# 目前的结果包含:(1) 使用口袋 + 已知配体的一个片段 作为生成的起始结构\n",
    "# \n",
    "# 说明:(1) unchanged 是指使用片段为起始结构进行生成时，模型只关注片段两端的原子是否还有键连原子，其他原子认为处于结束状态\n",
    "#      (2) full 是指使用片段为起始结构进行生成时，整个片段的所有原子模型都会关注到，考虑所有地方是否还会有新的键连原子"
   ]
  },
  {
   "cell_type": "code",
   "execution_count": 2,
   "metadata": {},
   "outputs": [
    {
     "data": {
      "application/3dmoljs_load.v0": "<div id=\"3dmolviewer_1609934888597559\"  style=\"position: relative; width: 640px; height: 480px\">\n        <p id=\"3dmolwarning_1609934888597559\" style=\"background-color:#ffcccc;color:black\">You appear to be running in JupyterLab (or JavaScript failed to load for some other reason).  You need to install the 3dmol extension: <br>\n        <tt>jupyter labextension install jupyterlab_3dmol</tt></p>\n        </div>\n<script>\n\nvar loadScriptAsync = function(uri){\n  return new Promise((resolve, reject) => {\n    var tag = document.createElement('script');\n    tag.src = uri;\n    tag.async = true;\n    tag.onload = () => {\n      resolve();\n    };\n  var firstScriptTag = document.getElementsByTagName('script')[0];\n  firstScriptTag.parentNode.insertBefore(tag, firstScriptTag);\n});\n};\n\nif(typeof $3Dmolpromise === 'undefined') {\n$3Dmolpromise = null;\n  $3Dmolpromise = loadScriptAsync('https://3dmol.org/build/3Dmol.js');\n}\n\nvar viewer_1609934888597559 = null;\nvar warn = document.getElementById(\"3dmolwarning_1609934888597559\");\nif(warn) {\n    warn.parentNode.removeChild(warn);\n}\n$3Dmolpromise.then(function() {\nviewer_1609934888597559 = $3Dmol.createViewer($(\"#3dmolviewer_1609934888597559\"),{backgroundColor:\"white\"});\n\tviewer_1609934888597559.addModels(\"\\n     RDKit          3D\\n\\n 18  0  0  0  0  0  0  0  0  0999 V2000\\n   -4.5300   -0.4750   14.8090 C   0  0  0  0  0  0  0  0  0  0  0  0\\n   -4.1990    1.4620   15.6430 C   0  0  0  0  0  0  0  0  0  0  0  0\\n   -4.5800    2.0180   16.8140 C   0  0  0  0  0  0  0  0  0  0  0  0\\n   -4.5980    3.1500   14.2680 C   0  0  0  0  0  0  0  0  0  0  0  0\\n   -7.1130    3.8650   16.9380 C   0  0  0  0  0  0  0  0  0  0  0  0\\n   -5.9830    4.1140   14.8930 C   0  0  0  0  0  0  0  0  0  0  0  0\\n   -6.3310    5.3690   15.6900 C   0  0  0  0  0  0  0  0  0  0  0  0\\n   -6.2980    2.3570   18.8640 C   0  0  0  0  0  0  0  0  0  0  0  0\\n   -7.5430    1.1430   16.8500 C   0  0  0  0  0  0  0  0  0  0  0  0\\n   -6.3380    1.3750   17.0400 C   0  0  0  0  0  0  0  0  0  0  0  0\\n   -6.2200    0.2850   17.4630 C   0  0  0  0  0  0  0  0  0  0  0  0\\n   -1.8310    4.5960   14.4740 C   0  0  0  0  0  0  0  0  0  0  0  0\\n   -2.9950    3.5400   15.3810 C   0  0  0  0  0  0  0  0  0  0  0  0\\n   -3.7230    4.7260   13.5970 C   0  0  0  0  0  0  0  0  0  0  0  0\\n   -2.8760    5.4170   12.7620 C   0  0  0  0  0  0  0  0  0  0  0  0\\n   -1.6740    8.5200   15.3380 C   0  0  0  0  0  0  0  0  0  0  0  0\\n   -3.2250    7.6150   15.4380 C   0  0  0  0  0  0  0  0  0  0  0  0\\n   -2.3020   11.4170   13.7550 C   0  0  0  0  0  0  0  0  0  0  0  0\\nM  END\\n$$$$\\n5n25_ligand\\n     RDKit          3D\\n\\n 16 17  0  0  0  0  0  0  0  0999 V2000\\n   -3.0920    3.1360   14.8860 C   0  0  0  0  0  0  0  0  0  0  0  0\\n   -5.1180    2.1910   15.7390 C   0  0  0  0  0  0  0  0  0  0  0  0\\n   -5.1440    4.3450   14.6890 C   0  0  0  0  0  0  0  0  0  0  0  0\\n   -5.4340    0.9990   18.0110 O   0  0  0  0  0  0  0  0  0  0  0  0\\n   -3.0010    5.4400   13.9270 C   0  0  0  0  0  0  0  0  0  0  0  0\\n   -1.9670    5.2630   13.0110 C   0  0  0  0  0  0  0  0  0  0  0  0\\n   -2.4010    7.7660   13.9500 C   0  0  0  0  0  0  0  0  0  0  0  0\\n   -5.8240    3.3100   15.3170 C   0  0  0  0  0  0  0  0  0  0  0  0\\n   -3.7620    4.2870   14.4800 C   0  0  0  0  0  0  0  0  0  0  0  0\\n   -1.4030    7.4770   13.0430 C   0  0  0  0  0  0  0  0  0  0  0  0\\n   -5.4720   -0.4930   16.0670 N   0  0  0  0  0  0  0  0  0  0  0  0\\n   -3.2080    6.7350   14.3920 C   0  0  0  0  0  0  0  0  0  0  0  0\\n   -5.9270    0.9190   16.6650 S   0  0  2  0  0  0  0  0  0  0  0  0\\n   -3.7540    2.0940   15.5100 C   0  0  0  0  0  0  0  0  0  0  0  0\\n   -7.3390    1.0450   16.4400 O   0  0  0  0  0  0  0  0  0  0  0  0\\n   -1.1720    6.2490   12.5710 N   0  0  0  0  0  0  0  0  0  0  0  0\\n  1  9  2  0\\n  1 14  1  0\\n  2  8  1  0\\n  2 13  1  0\\n  2 14  2  0\\n  3  8  2  0\\n  3  9  1  0\\n  4 13  2  0\\n  5  6  2  0\\n  5  9  1  0\\n  5 12  1  0\\n  6 16  1  0\\n  7 10  1  0\\n  7 12  2  0\\n 10 16  2  0\\n 13 11  1  6\\n 13 15  2  0\\nM  END\\n$$$$\\n\",\"sdf\");\n\tviewer_1609934888597559.setStyle({\"model\": 0},{\"sphere\": {\"radius\": 0.5, \"color\": \"0x33FF38\"}});\n\tviewer_1609934888597559.setStyle({\"model\": 1},{\"stick\": {}});\n\tviewer_1609934888597559.zoomTo();\nviewer_1609934888597559.render();\n});\n</script>",
      "text/html": [
       "<div id=\"3dmolviewer_1609934888597559\"  style=\"position: relative; width: 640px; height: 480px\">\n",
       "        <p id=\"3dmolwarning_1609934888597559\" style=\"background-color:#ffcccc;color:black\">You appear to be running in JupyterLab (or JavaScript failed to load for some other reason).  You need to install the 3dmol extension: <br>\n",
       "        <tt>jupyter labextension install jupyterlab_3dmol</tt></p>\n",
       "        </div>\n",
       "<script>\n",
       "\n",
       "var loadScriptAsync = function(uri){\n",
       "  return new Promise((resolve, reject) => {\n",
       "    var tag = document.createElement('script');\n",
       "    tag.src = uri;\n",
       "    tag.async = true;\n",
       "    tag.onload = () => {\n",
       "      resolve();\n",
       "    };\n",
       "  var firstScriptTag = document.getElementsByTagName('script')[0];\n",
       "  firstScriptTag.parentNode.insertBefore(tag, firstScriptTag);\n",
       "});\n",
       "};\n",
       "\n",
       "if(typeof $3Dmolpromise === 'undefined') {\n",
       "$3Dmolpromise = null;\n",
       "  $3Dmolpromise = loadScriptAsync('https://3dmol.org/build/3Dmol.js');\n",
       "}\n",
       "\n",
       "var viewer_1609934888597559 = null;\n",
       "var warn = document.getElementById(\"3dmolwarning_1609934888597559\");\n",
       "if(warn) {\n",
       "    warn.parentNode.removeChild(warn);\n",
       "}\n",
       "$3Dmolpromise.then(function() {\n",
       "viewer_1609934888597559 = $3Dmol.createViewer($(\"#3dmolviewer_1609934888597559\"),{backgroundColor:\"white\"});\n",
       "\tviewer_1609934888597559.addModels(\"\\n     RDKit          3D\\n\\n 18  0  0  0  0  0  0  0  0  0999 V2000\\n   -4.5300   -0.4750   14.8090 C   0  0  0  0  0  0  0  0  0  0  0  0\\n   -4.1990    1.4620   15.6430 C   0  0  0  0  0  0  0  0  0  0  0  0\\n   -4.5800    2.0180   16.8140 C   0  0  0  0  0  0  0  0  0  0  0  0\\n   -4.5980    3.1500   14.2680 C   0  0  0  0  0  0  0  0  0  0  0  0\\n   -7.1130    3.8650   16.9380 C   0  0  0  0  0  0  0  0  0  0  0  0\\n   -5.9830    4.1140   14.8930 C   0  0  0  0  0  0  0  0  0  0  0  0\\n   -6.3310    5.3690   15.6900 C   0  0  0  0  0  0  0  0  0  0  0  0\\n   -6.2980    2.3570   18.8640 C   0  0  0  0  0  0  0  0  0  0  0  0\\n   -7.5430    1.1430   16.8500 C   0  0  0  0  0  0  0  0  0  0  0  0\\n   -6.3380    1.3750   17.0400 C   0  0  0  0  0  0  0  0  0  0  0  0\\n   -6.2200    0.2850   17.4630 C   0  0  0  0  0  0  0  0  0  0  0  0\\n   -1.8310    4.5960   14.4740 C   0  0  0  0  0  0  0  0  0  0  0  0\\n   -2.9950    3.5400   15.3810 C   0  0  0  0  0  0  0  0  0  0  0  0\\n   -3.7230    4.7260   13.5970 C   0  0  0  0  0  0  0  0  0  0  0  0\\n   -2.8760    5.4170   12.7620 C   0  0  0  0  0  0  0  0  0  0  0  0\\n   -1.6740    8.5200   15.3380 C   0  0  0  0  0  0  0  0  0  0  0  0\\n   -3.2250    7.6150   15.4380 C   0  0  0  0  0  0  0  0  0  0  0  0\\n   -2.3020   11.4170   13.7550 C   0  0  0  0  0  0  0  0  0  0  0  0\\nM  END\\n$$$$\\n5n25_ligand\\n     RDKit          3D\\n\\n 16 17  0  0  0  0  0  0  0  0999 V2000\\n   -3.0920    3.1360   14.8860 C   0  0  0  0  0  0  0  0  0  0  0  0\\n   -5.1180    2.1910   15.7390 C   0  0  0  0  0  0  0  0  0  0  0  0\\n   -5.1440    4.3450   14.6890 C   0  0  0  0  0  0  0  0  0  0  0  0\\n   -5.4340    0.9990   18.0110 O   0  0  0  0  0  0  0  0  0  0  0  0\\n   -3.0010    5.4400   13.9270 C   0  0  0  0  0  0  0  0  0  0  0  0\\n   -1.9670    5.2630   13.0110 C   0  0  0  0  0  0  0  0  0  0  0  0\\n   -2.4010    7.7660   13.9500 C   0  0  0  0  0  0  0  0  0  0  0  0\\n   -5.8240    3.3100   15.3170 C   0  0  0  0  0  0  0  0  0  0  0  0\\n   -3.7620    4.2870   14.4800 C   0  0  0  0  0  0  0  0  0  0  0  0\\n   -1.4030    7.4770   13.0430 C   0  0  0  0  0  0  0  0  0  0  0  0\\n   -5.4720   -0.4930   16.0670 N   0  0  0  0  0  0  0  0  0  0  0  0\\n   -3.2080    6.7350   14.3920 C   0  0  0  0  0  0  0  0  0  0  0  0\\n   -5.9270    0.9190   16.6650 S   0  0  2  0  0  0  0  0  0  0  0  0\\n   -3.7540    2.0940   15.5100 C   0  0  0  0  0  0  0  0  0  0  0  0\\n   -7.3390    1.0450   16.4400 O   0  0  0  0  0  0  0  0  0  0  0  0\\n   -1.1720    6.2490   12.5710 N   0  0  0  0  0  0  0  0  0  0  0  0\\n  1  9  2  0\\n  1 14  1  0\\n  2  8  1  0\\n  2 13  1  0\\n  2 14  2  0\\n  3  8  2  0\\n  3  9  1  0\\n  4 13  2  0\\n  5  6  2  0\\n  5  9  1  0\\n  5 12  1  0\\n  6 16  1  0\\n  7 10  1  0\\n  7 12  2  0\\n 10 16  2  0\\n 13 11  1  6\\n 13 15  2  0\\nM  END\\n$$$$\\n\",\"sdf\");\n",
       "\tviewer_1609934888597559.setStyle({\"model\": 0},{\"sphere\": {\"radius\": 0.5, \"color\": \"0x33FF38\"}});\n",
       "\tviewer_1609934888597559.setStyle({\"model\": 1},{\"stick\": {}});\n",
       "\tviewer_1609934888597559.zoomTo();\n",
       "viewer_1609934888597559.render();\n",
       "});\n",
       "</script>"
      ]
     },
     "metadata": {},
     "output_type": "display_data"
    },
    {
     "data": {
      "text/plain": [
       "<py3Dmol.view at 0x7fdd64284710>"
      ]
     },
     "execution_count": 2,
     "metadata": {},
     "output_type": "execute_result"
    }
   ],
   "source": [
    "### PDBid-5n25的完整复合物结构：已知的结合配体\n",
    "from utils import show_betas_lig as show\n",
    "\n",
    "sdf = \"3900db_gen_5n25/betas_lig.sdf\"\n",
    "show(sdf)"
   ]
  },
  {
   "cell_type": "code",
   "execution_count": 5,
   "metadata": {},
   "outputs": [
    {
     "data": {
      "application/3dmoljs_load.v0": "<div id=\"3dmolviewer_16098357173762362\"  style=\"position: relative; width: 640px; height: 480px\">\n        <p id=\"3dmolwarning_16098357173762362\" style=\"background-color:#ffcccc;color:black\">You appear to be running in JupyterLab (or JavaScript failed to load for some other reason).  You need to install the 3dmol extension: <br>\n        <tt>jupyter labextension install jupyterlab_3dmol</tt></p>\n        </div>\n<script>\n\nvar loadScriptAsync = function(uri){\n  return new Promise((resolve, reject) => {\n    var tag = document.createElement('script');\n    tag.src = uri;\n    tag.async = true;\n    tag.onload = () => {\n      resolve();\n    };\n  var firstScriptTag = document.getElementsByTagName('script')[0];\n  firstScriptTag.parentNode.insertBefore(tag, firstScriptTag);\n});\n};\n\nif(typeof $3Dmolpromise === 'undefined') {\n$3Dmolpromise = null;\n  $3Dmolpromise = loadScriptAsync('https://3dmol.org/build/3Dmol.js');\n}\n\nvar viewer_16098357173762362 = null;\nvar warn = document.getElementById(\"3dmolwarning_16098357173762362\");\nif(warn) {\n    warn.parentNode.removeChild(warn);\n}\n$3Dmolpromise.then(function() {\nviewer_16098357173762362 = $3Dmol.createViewer($(\"#3dmolviewer_16098357173762362\"),{backgroundColor:\"white\"});\n\tviewer_16098357173762362.addModels(\"\\n     RDKit          3D\\n\\n 18  0  0  0  0  0  0  0  0  0999 V2000\\n   -5.9830    4.1140   14.8930 C   0  0  0  0  0  0  0  0  0  0  0  0\\n   -3.7230    4.7260   13.5970 C   0  0  0  0  0  0  0  0  0  0  0  0\\n   -1.8310    4.5960   14.4740 C   0  0  0  0  0  0  0  0  0  0  0  0\\n   -3.2250    7.6150   15.4380 C   0  0  0  0  0  0  0  0  0  0  0  0\\n   -2.9950    3.5400   15.3810 C   0  0  0  0  0  0  0  0  0  0  0  0\\n   -4.5980    3.1500   14.2680 C   0  0  0  0  0  0  0  0  0  0  0  0\\n   -2.8760    5.4170   12.7620 C   0  0  0  0  0  0  0  0  0  0  0  0\\n   -1.6740    8.5200   15.3380 C   0  0  0  0  0  0  0  0  0  0  0  0\\n   -6.3310    5.3690   15.6900 C   0  0  0  0  0  0  0  0  0  0  0  0\\n   -4.5300   -0.4750   14.8090 C   0  0  0  0  0  0  0  0  0  0  0  0\\n   -4.1990    1.4620   15.6430 C   0  0  0  0  0  0  0  0  0  0  0  0\\n   -4.5800    2.0180   16.8140 C   0  0  0  0  0  0  0  0  0  0  0  0\\n   -7.1130    3.8650   16.9380 C   0  0  0  0  0  0  0  0  0  0  0  0\\n   -6.2980    2.3570   18.8640 C   0  0  0  0  0  0  0  0  0  0  0  0\\n   -7.5430    1.1430   16.8500 C   0  0  0  0  0  0  0  0  0  0  0  0\\n   -6.3380    1.3750   17.0400 C   0  0  0  0  0  0  0  0  0  0  0  0\\n   -6.2200    0.2850   17.4630 C   0  0  0  0  0  0  0  0  0  0  0  0\\n   -2.3020   11.4170   13.7550 C   0  0  0  0  0  0  0  0  0  0  0  0\\nM  END\\n$$$$\\n5n25_ligand\\n     RDKit          3D\\n\\n  7  7  0  0  0  0  0  0  0  0999 V2000\\n   -3.0920    3.1360   14.8860 C   0  0  0  0  0  0  0  0  0  0  0  0\\n   -5.1180    2.1910   15.7390 C   0  0  0  0  0  0  0  0  0  0  0  0\\n   -5.1440    4.3450   14.6890 C   0  0  0  0  0  0  0  0  0  0  0  0\\n   -3.0010    5.4400   13.9270 C   0  0  0  0  0  0  0  0  0  0  0  0\\n   -5.8240    3.3100   15.3170 C   0  0  0  0  0  0  0  0  0  0  0  0\\n   -3.7620    4.2870   14.4800 C   0  0  0  0  0  0  0  0  0  0  0  0\\n   -3.7540    2.0940   15.5100 C   0  0  0  0  0  0  0  0  0  0  0  0\\n  1  6  4  0\\n  1  7  4  0\\n  2  5  4  0\\n  2  7  4  0\\n  3  5  4  0\\n  3  6  4  0\\n  4  6  1  0\\nM  END\\n$$$$\\n\",\"sdf\");\n\tviewer_16098357173762362.setStyle({\"model\": 0},{\"sphere\": {\"radius\": 0.5, \"color\": \"0x33FF38\"}});\n\tviewer_16098357173762362.setStyle({\"model\": 1},{\"stick\": {}});\n\tviewer_16098357173762362.zoomTo();\nviewer_16098357173762362.render();\n});\n</script>",
      "text/html": [
       "<div id=\"3dmolviewer_16098357173762362\"  style=\"position: relative; width: 640px; height: 480px\">\n",
       "        <p id=\"3dmolwarning_16098357173762362\" style=\"background-color:#ffcccc;color:black\">You appear to be running in JupyterLab (or JavaScript failed to load for some other reason).  You need to install the 3dmol extension: <br>\n",
       "        <tt>jupyter labextension install jupyterlab_3dmol</tt></p>\n",
       "        </div>\n",
       "<script>\n",
       "\n",
       "var loadScriptAsync = function(uri){\n",
       "  return new Promise((resolve, reject) => {\n",
       "    var tag = document.createElement('script');\n",
       "    tag.src = uri;\n",
       "    tag.async = true;\n",
       "    tag.onload = () => {\n",
       "      resolve();\n",
       "    };\n",
       "  var firstScriptTag = document.getElementsByTagName('script')[0];\n",
       "  firstScriptTag.parentNode.insertBefore(tag, firstScriptTag);\n",
       "});\n",
       "};\n",
       "\n",
       "if(typeof $3Dmolpromise === 'undefined') {\n",
       "$3Dmolpromise = null;\n",
       "  $3Dmolpromise = loadScriptAsync('https://3dmol.org/build/3Dmol.js');\n",
       "}\n",
       "\n",
       "var viewer_16098357173762362 = null;\n",
       "var warn = document.getElementById(\"3dmolwarning_16098357173762362\");\n",
       "if(warn) {\n",
       "    warn.parentNode.removeChild(warn);\n",
       "}\n",
       "$3Dmolpromise.then(function() {\n",
       "viewer_16098357173762362 = $3Dmol.createViewer($(\"#3dmolviewer_16098357173762362\"),{backgroundColor:\"white\"});\n",
       "\tviewer_16098357173762362.addModels(\"\\n     RDKit          3D\\n\\n 18  0  0  0  0  0  0  0  0  0999 V2000\\n   -5.9830    4.1140   14.8930 C   0  0  0  0  0  0  0  0  0  0  0  0\\n   -3.7230    4.7260   13.5970 C   0  0  0  0  0  0  0  0  0  0  0  0\\n   -1.8310    4.5960   14.4740 C   0  0  0  0  0  0  0  0  0  0  0  0\\n   -3.2250    7.6150   15.4380 C   0  0  0  0  0  0  0  0  0  0  0  0\\n   -2.9950    3.5400   15.3810 C   0  0  0  0  0  0  0  0  0  0  0  0\\n   -4.5980    3.1500   14.2680 C   0  0  0  0  0  0  0  0  0  0  0  0\\n   -2.8760    5.4170   12.7620 C   0  0  0  0  0  0  0  0  0  0  0  0\\n   -1.6740    8.5200   15.3380 C   0  0  0  0  0  0  0  0  0  0  0  0\\n   -6.3310    5.3690   15.6900 C   0  0  0  0  0  0  0  0  0  0  0  0\\n   -4.5300   -0.4750   14.8090 C   0  0  0  0  0  0  0  0  0  0  0  0\\n   -4.1990    1.4620   15.6430 C   0  0  0  0  0  0  0  0  0  0  0  0\\n   -4.5800    2.0180   16.8140 C   0  0  0  0  0  0  0  0  0  0  0  0\\n   -7.1130    3.8650   16.9380 C   0  0  0  0  0  0  0  0  0  0  0  0\\n   -6.2980    2.3570   18.8640 C   0  0  0  0  0  0  0  0  0  0  0  0\\n   -7.5430    1.1430   16.8500 C   0  0  0  0  0  0  0  0  0  0  0  0\\n   -6.3380    1.3750   17.0400 C   0  0  0  0  0  0  0  0  0  0  0  0\\n   -6.2200    0.2850   17.4630 C   0  0  0  0  0  0  0  0  0  0  0  0\\n   -2.3020   11.4170   13.7550 C   0  0  0  0  0  0  0  0  0  0  0  0\\nM  END\\n$$$$\\n5n25_ligand\\n     RDKit          3D\\n\\n  7  7  0  0  0  0  0  0  0  0999 V2000\\n   -3.0920    3.1360   14.8860 C   0  0  0  0  0  0  0  0  0  0  0  0\\n   -5.1180    2.1910   15.7390 C   0  0  0  0  0  0  0  0  0  0  0  0\\n   -5.1440    4.3450   14.6890 C   0  0  0  0  0  0  0  0  0  0  0  0\\n   -3.0010    5.4400   13.9270 C   0  0  0  0  0  0  0  0  0  0  0  0\\n   -5.8240    3.3100   15.3170 C   0  0  0  0  0  0  0  0  0  0  0  0\\n   -3.7620    4.2870   14.4800 C   0  0  0  0  0  0  0  0  0  0  0  0\\n   -3.7540    2.0940   15.5100 C   0  0  0  0  0  0  0  0  0  0  0  0\\n  1  6  4  0\\n  1  7  4  0\\n  2  5  4  0\\n  2  7  4  0\\n  3  5  4  0\\n  3  6  4  0\\n  4  6  1  0\\nM  END\\n$$$$\\n\",\"sdf\");\n",
       "\tviewer_16098357173762362.setStyle({\"model\": 0},{\"sphere\": {\"radius\": 0.5, \"color\": \"0x33FF38\"}});\n",
       "\tviewer_16098357173762362.setStyle({\"model\": 1},{\"stick\": {}});\n",
       "\tviewer_16098357173762362.zoomTo();\n",
       "viewer_16098357173762362.render();\n",
       "});\n",
       "</script>"
      ]
     },
     "metadata": {},
     "output_type": "display_data"
    },
    {
     "data": {
      "text/plain": [
       "<py3Dmol.view at 0x7f9848983470>"
      ]
     },
     "execution_count": 5,
     "metadata": {},
     "output_type": "execute_result"
    }
   ],
   "source": [
    "### 作为生成起始的分子片段和完整的口袋beta原子\n",
    "sdf = \"3900db_gen_5n25/betas_lig.fragment.sdf\"\n",
    "show(sdf)"
   ]
  },
  {
   "cell_type": "code",
   "execution_count": 3,
   "metadata": {},
   "outputs": [
    {
     "data": {
      "application/vnd.jupyter.widget-view+json": {
       "model_id": "f067d0fe740c462b951a882cea259009",
       "version_major": 2,
       "version_minor": 0
      },
      "text/plain": [
       "interactive(children=(IntSlider(value=1, description='sample_i', max=30, min=1), Output()), _dom_classes=('wid…"
      ]
     },
     "metadata": {},
     "output_type": "display_data"
    },
    {
     "data": {
      "text/plain": [
       "<function __main__.show_(sample_i)>"
      ]
     },
     "execution_count": 3,
     "metadata": {},
     "output_type": "execute_result"
    }
   ],
   "source": [
    "### 模型生成的点云：interact模式\n",
    "# mode: 从 [\"unchanged\",\"full\"] 中选择\n",
    "# 提供的生成点云数量不同mode各30个：可能会有一些重复的点云，是自动生成的结果\n",
    "# 会尝试将同一个mode下的所有生成点云一并展示，通过拉动横条来切换 \n",
    "#\n",
    "# Note: \n",
    "#     * 如果运行有误，使用下一个代码块（手动模式）\n",
    "\n",
    "from ipywidgets import interact,fixed,IntSlider\n",
    "from utils import show_betas_lig as show\n",
    "\n",
    "mode = \"unchanged\" #\"unchanged\" # \"full\"\n",
    "\n",
    "def show_(sample_i):\n",
    "    return show(f\"3900db_gen_5n25/from_fragment_{mode}/betas_lig_sample_{sample_i}.sdf\", is_point_cloud=True)\n",
    "\n",
    "interact(show_, sample_i=IntSlider(min=1,max=30, step=1))"
   ]
  },
  {
   "cell_type": "code",
   "execution_count": 9,
   "metadata": {},
   "outputs": [
    {
     "data": {
      "application/3dmoljs_load.v0": "<div id=\"3dmolviewer_16098364897426329\"  style=\"position: relative; width: 640px; height: 480px\">\n        <p id=\"3dmolwarning_16098364897426329\" style=\"background-color:#ffcccc;color:black\">You appear to be running in JupyterLab (or JavaScript failed to load for some other reason).  You need to install the 3dmol extension: <br>\n        <tt>jupyter labextension install jupyterlab_3dmol</tt></p>\n        </div>\n<script>\n\nvar loadScriptAsync = function(uri){\n  return new Promise((resolve, reject) => {\n    var tag = document.createElement('script');\n    tag.src = uri;\n    tag.async = true;\n    tag.onload = () => {\n      resolve();\n    };\n  var firstScriptTag = document.getElementsByTagName('script')[0];\n  firstScriptTag.parentNode.insertBefore(tag, firstScriptTag);\n});\n};\n\nif(typeof $3Dmolpromise === 'undefined') {\n$3Dmolpromise = null;\n  $3Dmolpromise = loadScriptAsync('https://3dmol.org/build/3Dmol.js');\n}\n\nvar viewer_16098364897426329 = null;\nvar warn = document.getElementById(\"3dmolwarning_16098364897426329\");\nif(warn) {\n    warn.parentNode.removeChild(warn);\n}\n$3Dmolpromise.then(function() {\nviewer_16098364897426329 = $3Dmol.createViewer($(\"#3dmolviewer_16098364897426329\"),{backgroundColor:\"white\"});\n\tviewer_16098364897426329.addModels(\"\\n     RDKit          3D\\n\\n 18  0  0  0  0  0  0  0  0  0999 V2000\\n   -0.3520   -0.2750   -0.8780 C   0  0  0  0  0  0  0  0  0  0  0  0\\n    1.2510    0.1150    0.2350 C   0  0  0  0  0  0  0  0  0  0  0  0\\n   -1.7370    0.6890   -0.2530 C   0  0  0  0  0  0  0  0  0  0  0  0\\n    0.0470   -1.9630    0.4970 C   0  0  0  0  0  0  0  0  0  0  0  0\\n    0.5230    1.3010   -1.5490 C   0  0  0  0  0  0  0  0  0  0  0  0\\n   -0.3340   -1.4070    1.6680 C   0  0  0  0  0  0  0  0  0  0  0  0\\n    2.4150    1.1710   -0.6720 C   0  0  0  0  0  0  0  0  0  0  0  0\\n   -2.0850    1.9440    0.5440 C   0  0  0  0  0  0  0  0  0  0  0  0\\n    1.3700    1.9920   -2.3840 C   0  0  0  0  0  0  0  0  0  0  0  0\\n   -2.8670    0.4400    1.7920 C   0  0  0  0  0  0  0  0  0  0  0  0\\n   -2.0920   -2.0500    1.8940 C   0  0  0  0  0  0  0  0  0  0  0  0\\n   -0.2840   -3.9000   -0.3370 C   0  0  0  0  0  0  0  0  0  0  0  0\\n    1.0210    4.1900    0.2920 C   0  0  0  0  0  0  0  0  0  0  0  0\\n   -3.2970   -2.2820    1.7040 C   0  0  0  0  0  0  0  0  0  0  0  0\\n   -1.9740   -3.1400    2.3170 C   0  0  0  0  0  0  0  0  0  0  0  0\\n   -2.0520   -1.0680    3.7180 C   0  0  0  0  0  0  0  0  0  0  0  0\\n    2.5720    5.0950    0.1920 C   0  0  0  0  0  0  0  0  0  0  0  0\\n    1.9440    7.9920   -1.3910 C   0  0  0  0  0  0  0  0  0  0  0  0\\nM  END\\n$$$$\\n\\n     RDKit          3D\\n\\n 14  0  0  0  0  0  0  0  0  0999 V2000\\n    1.1540   -0.2890   -0.2600 C   0  0  0  0  0  0  0  0  0  0  0  0\\n   -0.8720   -1.2340    0.5930 C   0  0  0  0  0  0  0  0  0  0  0  0\\n   -0.8980    0.9200   -0.4570 C   0  0  0  0  0  0  0  0  0  0  0  0\\n    1.2450    2.0150   -1.2190 C   0  0  0  0  0  0  0  0  0  0  0  0\\n   -1.5780   -0.1150    0.1710 C   0  0  0  0  0  0  0  0  0  0  0  0\\n    0.4840    0.8620   -0.6660 C   0  0  0  0  0  0  0  0  0  0  0  0\\n    0.4920   -1.3310    0.3640 C   0  0  0  0  0  0  0  0  0  0  0  0\\n    1.7560    3.0370   -0.1970 C   0  0  0  0  0  0  0  0  0  0  0  0\\n   -1.6390   -2.2560    1.3590 O   0  0  0  0  0  0  0  0  0  0  0  0\\n   -2.6610   -1.7450    2.3820 C   0  0  0  0  0  0  0  0  0  0  0  0\\n    1.2450    3.5480    1.0810 N   0  0  0  0  0  0  0  0  0  0  0  0\\n    3.0340    3.2930   -0.7080 O   0  0  0  0  0  0  0  0  0  0  0  0\\n    0.2230    4.5700    1.3360 C   0  0  0  0  0  0  0  0  0  0  0  0\\n    0.9900    5.8480    1.8470 C   0  0  0  0  0  0  0  0  0  0  0  0\\nM  END\\n$$$$\\n\",\"sdf\");\n\tviewer_16098364897426329.setStyle({\"model\": 0},{\"sphere\": {\"radius\": 0.5, \"color\": \"0x33FF38\"}});\n\tviewer_16098364897426329.setStyle({\"model\": 1},{\"sphere\": {\"radius\": 0.5}});\n\tviewer_16098364897426329.zoomTo();\nviewer_16098364897426329.render();\n});\n</script>",
      "text/html": [
       "<div id=\"3dmolviewer_16098364897426329\"  style=\"position: relative; width: 640px; height: 480px\">\n",
       "        <p id=\"3dmolwarning_16098364897426329\" style=\"background-color:#ffcccc;color:black\">You appear to be running in JupyterLab (or JavaScript failed to load for some other reason).  You need to install the 3dmol extension: <br>\n",
       "        <tt>jupyter labextension install jupyterlab_3dmol</tt></p>\n",
       "        </div>\n",
       "<script>\n",
       "\n",
       "var loadScriptAsync = function(uri){\n",
       "  return new Promise((resolve, reject) => {\n",
       "    var tag = document.createElement('script');\n",
       "    tag.src = uri;\n",
       "    tag.async = true;\n",
       "    tag.onload = () => {\n",
       "      resolve();\n",
       "    };\n",
       "  var firstScriptTag = document.getElementsByTagName('script')[0];\n",
       "  firstScriptTag.parentNode.insertBefore(tag, firstScriptTag);\n",
       "});\n",
       "};\n",
       "\n",
       "if(typeof $3Dmolpromise === 'undefined') {\n",
       "$3Dmolpromise = null;\n",
       "  $3Dmolpromise = loadScriptAsync('https://3dmol.org/build/3Dmol.js');\n",
       "}\n",
       "\n",
       "var viewer_16098364897426329 = null;\n",
       "var warn = document.getElementById(\"3dmolwarning_16098364897426329\");\n",
       "if(warn) {\n",
       "    warn.parentNode.removeChild(warn);\n",
       "}\n",
       "$3Dmolpromise.then(function() {\n",
       "viewer_16098364897426329 = $3Dmol.createViewer($(\"#3dmolviewer_16098364897426329\"),{backgroundColor:\"white\"});\n",
       "\tviewer_16098364897426329.addModels(\"\\n     RDKit          3D\\n\\n 18  0  0  0  0  0  0  0  0  0999 V2000\\n   -0.3520   -0.2750   -0.8780 C   0  0  0  0  0  0  0  0  0  0  0  0\\n    1.2510    0.1150    0.2350 C   0  0  0  0  0  0  0  0  0  0  0  0\\n   -1.7370    0.6890   -0.2530 C   0  0  0  0  0  0  0  0  0  0  0  0\\n    0.0470   -1.9630    0.4970 C   0  0  0  0  0  0  0  0  0  0  0  0\\n    0.5230    1.3010   -1.5490 C   0  0  0  0  0  0  0  0  0  0  0  0\\n   -0.3340   -1.4070    1.6680 C   0  0  0  0  0  0  0  0  0  0  0  0\\n    2.4150    1.1710   -0.6720 C   0  0  0  0  0  0  0  0  0  0  0  0\\n   -2.0850    1.9440    0.5440 C   0  0  0  0  0  0  0  0  0  0  0  0\\n    1.3700    1.9920   -2.3840 C   0  0  0  0  0  0  0  0  0  0  0  0\\n   -2.8670    0.4400    1.7920 C   0  0  0  0  0  0  0  0  0  0  0  0\\n   -2.0920   -2.0500    1.8940 C   0  0  0  0  0  0  0  0  0  0  0  0\\n   -0.2840   -3.9000   -0.3370 C   0  0  0  0  0  0  0  0  0  0  0  0\\n    1.0210    4.1900    0.2920 C   0  0  0  0  0  0  0  0  0  0  0  0\\n   -3.2970   -2.2820    1.7040 C   0  0  0  0  0  0  0  0  0  0  0  0\\n   -1.9740   -3.1400    2.3170 C   0  0  0  0  0  0  0  0  0  0  0  0\\n   -2.0520   -1.0680    3.7180 C   0  0  0  0  0  0  0  0  0  0  0  0\\n    2.5720    5.0950    0.1920 C   0  0  0  0  0  0  0  0  0  0  0  0\\n    1.9440    7.9920   -1.3910 C   0  0  0  0  0  0  0  0  0  0  0  0\\nM  END\\n$$$$\\n\\n     RDKit          3D\\n\\n 14  0  0  0  0  0  0  0  0  0999 V2000\\n    1.1540   -0.2890   -0.2600 C   0  0  0  0  0  0  0  0  0  0  0  0\\n   -0.8720   -1.2340    0.5930 C   0  0  0  0  0  0  0  0  0  0  0  0\\n   -0.8980    0.9200   -0.4570 C   0  0  0  0  0  0  0  0  0  0  0  0\\n    1.2450    2.0150   -1.2190 C   0  0  0  0  0  0  0  0  0  0  0  0\\n   -1.5780   -0.1150    0.1710 C   0  0  0  0  0  0  0  0  0  0  0  0\\n    0.4840    0.8620   -0.6660 C   0  0  0  0  0  0  0  0  0  0  0  0\\n    0.4920   -1.3310    0.3640 C   0  0  0  0  0  0  0  0  0  0  0  0\\n    1.7560    3.0370   -0.1970 C   0  0  0  0  0  0  0  0  0  0  0  0\\n   -1.6390   -2.2560    1.3590 O   0  0  0  0  0  0  0  0  0  0  0  0\\n   -2.6610   -1.7450    2.3820 C   0  0  0  0  0  0  0  0  0  0  0  0\\n    1.2450    3.5480    1.0810 N   0  0  0  0  0  0  0  0  0  0  0  0\\n    3.0340    3.2930   -0.7080 O   0  0  0  0  0  0  0  0  0  0  0  0\\n    0.2230    4.5700    1.3360 C   0  0  0  0  0  0  0  0  0  0  0  0\\n    0.9900    5.8480    1.8470 C   0  0  0  0  0  0  0  0  0  0  0  0\\nM  END\\n$$$$\\n\",\"sdf\");\n",
       "\tviewer_16098364897426329.setStyle({\"model\": 0},{\"sphere\": {\"radius\": 0.5, \"color\": \"0x33FF38\"}});\n",
       "\tviewer_16098364897426329.setStyle({\"model\": 1},{\"sphere\": {\"radius\": 0.5}});\n",
       "\tviewer_16098364897426329.zoomTo();\n",
       "viewer_16098364897426329.render();\n",
       "});\n",
       "</script>"
      ]
     },
     "metadata": {},
     "output_type": "display_data"
    },
    {
     "data": {
      "text/plain": [
       "<py3Dmol.view at 0x7f982f592ef0>"
      ]
     },
     "execution_count": 9,
     "metadata": {},
     "output_type": "execute_result"
    }
   ],
   "source": [
    "### 模型生成的点云：手动模式\n",
    "# 需要改变样本的编号来切换查看不同的生成点云\n",
    "#\n",
    "\n",
    "mode = \"unchanged\" # \"full\"\n",
    "sample_i = 1 # 1-30的整数\n",
    "\n",
    "show(f\"3900db_gen_5n25/from_fragment_{mode}/betas_lig_sample_{sample_i}.sdf\", is_point_cloud=True)"
   ]
  },
  {
   "cell_type": "code",
   "execution_count": null,
   "metadata": {},
   "outputs": [],
   "source": [
    "##### 20210109 更新 #####\n",
    "# 两种生长模式下的生成点云: (1) 从空口袋+质心；(2) 从空口袋+分子片段(unchanged mode)\n",
    "# Notes：\n",
    "#     * 仍然是5n25的口袋\n",
    "#     * 均已经与原蛋白质口袋的坐标对齐\n",
    "#     * 空口袋+质心的结果更加多样，提供了50个生成点云；空口袋+分子片段(unchanged mode)还是30个，坐标进行了对齐"
   ]
  },
  {
   "cell_type": "code",
   "execution_count": 4,
   "metadata": {},
   "outputs": [
    {
     "data": {
      "application/vnd.jupyter.widget-view+json": {
       "model_id": "08e275636e6c4653b2b417468137138f",
       "version_major": 2,
       "version_minor": 0
      },
      "text/plain": [
       "interactive(children=(IntSlider(value=1, description='sample_i', max=50, min=1), Output()), _dom_classes=('wid…"
      ]
     },
     "metadata": {},
     "output_type": "display_data"
    },
    {
     "data": {
      "text/plain": [
       "<function __main__.show_(sample_i)>"
      ]
     },
     "execution_count": 4,
     "metadata": {},
     "output_type": "execute_result"
    }
   ],
   "source": [
    "### 模型生成的点云：interact模式\n",
    "# 会尝试将同一个mode下的所有生成点云一并展示，通过拉动横条来切换 \n",
    "#\n",
    "# Note: \n",
    "#     * 如果运行有误，使用下一个代码块（手动模式）\n",
    "\n",
    "from ipywidgets import interact,fixed,IntSlider\n",
    "from utils import show_betas_lig as show\n",
    "\n",
    "tgt_dir = \"from_com\" # \"from_fragment_unchanged_aligned\"\n",
    "max_i = 50 if tgt_dir == \"from_com\" else 30\n",
    "\n",
    "def show_(sample_i):\n",
    "    return show(f\"3900db_gen_5n25/{tgt_dir}/betas_lig_sample_{sample_i}.sdf\", is_point_cloud=True)\n",
    "\n",
    "interact(show_, sample_i=IntSlider(min=1,max=max_i, step=1))"
   ]
  },
  {
   "cell_type": "code",
   "execution_count": 13,
   "metadata": {},
   "outputs": [
    {
     "data": {
      "application/3dmoljs_load.v0": "<div id=\"3dmolviewer_16101896240576432\"  style=\"position: relative; width: 640px; height: 480px\">\n        <p id=\"3dmolwarning_16101896240576432\" style=\"background-color:#ffcccc;color:black\">You appear to be running in JupyterLab (or JavaScript failed to load for some other reason).  You need to install the 3dmol extension: <br>\n        <tt>jupyter labextension install jupyterlab_3dmol</tt></p>\n        </div>\n<script>\n\nvar loadScriptAsync = function(uri){\n  return new Promise((resolve, reject) => {\n    var tag = document.createElement('script');\n    tag.src = uri;\n    tag.async = true;\n    tag.onload = () => {\n      resolve();\n    };\n  var firstScriptTag = document.getElementsByTagName('script')[0];\n  firstScriptTag.parentNode.insertBefore(tag, firstScriptTag);\n});\n};\n\nif(typeof $3Dmolpromise === 'undefined') {\n$3Dmolpromise = null;\n  $3Dmolpromise = loadScriptAsync('https://3dmol.org/build/3Dmol.js');\n}\n\nvar viewer_16101896240576432 = null;\nvar warn = document.getElementById(\"3dmolwarning_16101896240576432\");\nif(warn) {\n    warn.parentNode.removeChild(warn);\n}\n$3Dmolpromise.then(function() {\nviewer_16101896240576432 = $3Dmol.createViewer($(\"#3dmolviewer_16101896240576432\"),{backgroundColor:\"white\"});\n\tviewer_16101896240576432.addModels(\"\\n     RDKit          3D\\n\\n 18  0  0  0  0  0  0  0  0  0999 V2000\\n   -4.5980    3.1500   14.2680 C   0  0  0  0  0  0  0  0  0  0  0  0\\n   -2.9950    3.5400   15.3810 C   0  0  0  0  0  0  0  0  0  0  0  0\\n   -5.9830    4.1140   14.8930 C   0  0  0  0  0  0  0  0  0  0  0  0\\n   -4.1990    1.4620   15.6430 C   0  0  0  0  0  0  0  0  0  0  0  0\\n   -3.7230    4.7260   13.5970 C   0  0  0  0  0  0  0  0  0  0  0  0\\n   -4.5800    2.0180   16.8140 C   0  0  0  0  0  0  0  0  0  0  0  0\\n   -1.8310    4.5960   14.4740 C   0  0  0  0  0  0  0  0  0  0  0  0\\n   -6.3310    5.3690   15.6900 C   0  0  0  0  0  0  0  0  0  0  0  0\\n   -2.8760    5.4170   12.7620 C   0  0  0  0  0  0  0  0  0  0  0  0\\n   -7.1130    3.8650   16.9380 C   0  0  0  0  0  0  0  0  0  0  0  0\\n   -6.3380    1.3750   17.0400 C   0  0  0  0  0  0  0  0  0  0  0  0\\n   -4.5300   -0.4750   14.8090 C   0  0  0  0  0  0  0  0  0  0  0  0\\n   -3.2250    7.6150   15.4380 C   0  0  0  0  0  0  0  0  0  0  0  0\\n   -7.5430    1.1430   16.8500 C   0  0  0  0  0  0  0  0  0  0  0  0\\n   -6.2200    0.2850   17.4630 C   0  0  0  0  0  0  0  0  0  0  0  0\\n   -6.2980    2.3570   18.8640 C   0  0  0  0  0  0  0  0  0  0  0  0\\n   -1.6740    8.5200   15.3380 C   0  0  0  0  0  0  0  0  0  0  0  0\\n   -2.3020   11.4170   13.7550 C   0  0  0  0  0  0  0  0  0  0  0  0\\nM  END\\n$$$$\\n\\n     RDKit          3D\\n\\n 17  0  0  0  0  0  0  0  0  0999 V2000\\n   -4.1220    3.0530   14.5260 C   0  0  0  0  0  0  0  0  0  0  0  0\\n   -4.8890    4.3300   14.5260 C   0  0  0  0  0  0  0  0  0  0  0  0\\n   -6.1660    4.5860   15.2920 C   0  0  0  0  0  0  0  0  0  0  0  0\\n   -4.6330    5.3530   13.5030 C   0  0  0  0  0  0  0  0  0  0  0  0\\n   -4.6330    1.7750   15.0370 C   0  0  0  0  0  0  0  0  0  0  0  0\\n   -2.5890    3.0530   14.0140 C   0  0  0  0  0  0  0  0  0  0  0  0\\n   -6.6780    3.8190   16.3140 O   0  0  0  0  0  0  0  0  0  0  0  0\\n   -1.8220    4.3300   14.0140 C   0  0  0  0  0  0  0  0  0  0  0  0\\n   -2.0780    5.6080   14.5260 O   0  0  0  0  0  0  0  0  0  0  0  0\\n   -7.1890    4.5860   17.5920 C   0  0  0  0  0  0  0  0  0  0  0  0\\n   -6.9330    5.6080   15.0370 O   0  0  0  0  0  0  0  0  0  0  0  0\\n   -5.6550    6.3750   12.9920 C   0  0  0  0  0  0  0  0  0  0  0  0\\n   -4.8890    1.5190   16.5700 C   0  0  0  0  0  0  0  0  0  0  0  0\\n   -0.5440    4.3300   13.5030 O   0  0  0  0  0  0  0  0  0  0  0  0\\n   -1.0550    6.6300   14.7810 C   0  0  0  0  0  0  0  0  0  0  0  0\\n   -4.8890    0.7530   14.0140 O   0  0  0  0  0  0  0  0  0  0  0  0\\n   -6.1660    1.2640   17.3370 C   0  0  0  0  0  0  0  0  0  0  0  0\\nM  END\\n$$$$\\n\",\"sdf\");\n\tviewer_16101896240576432.setStyle({\"model\": 0},{\"sphere\": {\"radius\": 0.5, \"color\": \"0x33FF38\"}});\n\tviewer_16101896240576432.setStyle({\"model\": 1},{\"sphere\": {\"radius\": 0.5}});\n\tviewer_16101896240576432.zoomTo();\nviewer_16101896240576432.render();\n});\n</script>",
      "text/html": [
       "<div id=\"3dmolviewer_16101896240576432\"  style=\"position: relative; width: 640px; height: 480px\">\n",
       "        <p id=\"3dmolwarning_16101896240576432\" style=\"background-color:#ffcccc;color:black\">You appear to be running in JupyterLab (or JavaScript failed to load for some other reason).  You need to install the 3dmol extension: <br>\n",
       "        <tt>jupyter labextension install jupyterlab_3dmol</tt></p>\n",
       "        </div>\n",
       "<script>\n",
       "\n",
       "var loadScriptAsync = function(uri){\n",
       "  return new Promise((resolve, reject) => {\n",
       "    var tag = document.createElement('script');\n",
       "    tag.src = uri;\n",
       "    tag.async = true;\n",
       "    tag.onload = () => {\n",
       "      resolve();\n",
       "    };\n",
       "  var firstScriptTag = document.getElementsByTagName('script')[0];\n",
       "  firstScriptTag.parentNode.insertBefore(tag, firstScriptTag);\n",
       "});\n",
       "};\n",
       "\n",
       "if(typeof $3Dmolpromise === 'undefined') {\n",
       "$3Dmolpromise = null;\n",
       "  $3Dmolpromise = loadScriptAsync('https://3dmol.org/build/3Dmol.js');\n",
       "}\n",
       "\n",
       "var viewer_16101896240576432 = null;\n",
       "var warn = document.getElementById(\"3dmolwarning_16101896240576432\");\n",
       "if(warn) {\n",
       "    warn.parentNode.removeChild(warn);\n",
       "}\n",
       "$3Dmolpromise.then(function() {\n",
       "viewer_16101896240576432 = $3Dmol.createViewer($(\"#3dmolviewer_16101896240576432\"),{backgroundColor:\"white\"});\n",
       "\tviewer_16101896240576432.addModels(\"\\n     RDKit          3D\\n\\n 18  0  0  0  0  0  0  0  0  0999 V2000\\n   -4.5980    3.1500   14.2680 C   0  0  0  0  0  0  0  0  0  0  0  0\\n   -2.9950    3.5400   15.3810 C   0  0  0  0  0  0  0  0  0  0  0  0\\n   -5.9830    4.1140   14.8930 C   0  0  0  0  0  0  0  0  0  0  0  0\\n   -4.1990    1.4620   15.6430 C   0  0  0  0  0  0  0  0  0  0  0  0\\n   -3.7230    4.7260   13.5970 C   0  0  0  0  0  0  0  0  0  0  0  0\\n   -4.5800    2.0180   16.8140 C   0  0  0  0  0  0  0  0  0  0  0  0\\n   -1.8310    4.5960   14.4740 C   0  0  0  0  0  0  0  0  0  0  0  0\\n   -6.3310    5.3690   15.6900 C   0  0  0  0  0  0  0  0  0  0  0  0\\n   -2.8760    5.4170   12.7620 C   0  0  0  0  0  0  0  0  0  0  0  0\\n   -7.1130    3.8650   16.9380 C   0  0  0  0  0  0  0  0  0  0  0  0\\n   -6.3380    1.3750   17.0400 C   0  0  0  0  0  0  0  0  0  0  0  0\\n   -4.5300   -0.4750   14.8090 C   0  0  0  0  0  0  0  0  0  0  0  0\\n   -3.2250    7.6150   15.4380 C   0  0  0  0  0  0  0  0  0  0  0  0\\n   -7.5430    1.1430   16.8500 C   0  0  0  0  0  0  0  0  0  0  0  0\\n   -6.2200    0.2850   17.4630 C   0  0  0  0  0  0  0  0  0  0  0  0\\n   -6.2980    2.3570   18.8640 C   0  0  0  0  0  0  0  0  0  0  0  0\\n   -1.6740    8.5200   15.3380 C   0  0  0  0  0  0  0  0  0  0  0  0\\n   -2.3020   11.4170   13.7550 C   0  0  0  0  0  0  0  0  0  0  0  0\\nM  END\\n$$$$\\n\\n     RDKit          3D\\n\\n 17  0  0  0  0  0  0  0  0  0999 V2000\\n   -4.1220    3.0530   14.5260 C   0  0  0  0  0  0  0  0  0  0  0  0\\n   -4.8890    4.3300   14.5260 C   0  0  0  0  0  0  0  0  0  0  0  0\\n   -6.1660    4.5860   15.2920 C   0  0  0  0  0  0  0  0  0  0  0  0\\n   -4.6330    5.3530   13.5030 C   0  0  0  0  0  0  0  0  0  0  0  0\\n   -4.6330    1.7750   15.0370 C   0  0  0  0  0  0  0  0  0  0  0  0\\n   -2.5890    3.0530   14.0140 C   0  0  0  0  0  0  0  0  0  0  0  0\\n   -6.6780    3.8190   16.3140 O   0  0  0  0  0  0  0  0  0  0  0  0\\n   -1.8220    4.3300   14.0140 C   0  0  0  0  0  0  0  0  0  0  0  0\\n   -2.0780    5.6080   14.5260 O   0  0  0  0  0  0  0  0  0  0  0  0\\n   -7.1890    4.5860   17.5920 C   0  0  0  0  0  0  0  0  0  0  0  0\\n   -6.9330    5.6080   15.0370 O   0  0  0  0  0  0  0  0  0  0  0  0\\n   -5.6550    6.3750   12.9920 C   0  0  0  0  0  0  0  0  0  0  0  0\\n   -4.8890    1.5190   16.5700 C   0  0  0  0  0  0  0  0  0  0  0  0\\n   -0.5440    4.3300   13.5030 O   0  0  0  0  0  0  0  0  0  0  0  0\\n   -1.0550    6.6300   14.7810 C   0  0  0  0  0  0  0  0  0  0  0  0\\n   -4.8890    0.7530   14.0140 O   0  0  0  0  0  0  0  0  0  0  0  0\\n   -6.1660    1.2640   17.3370 C   0  0  0  0  0  0  0  0  0  0  0  0\\nM  END\\n$$$$\\n\",\"sdf\");\n",
       "\tviewer_16101896240576432.setStyle({\"model\": 0},{\"sphere\": {\"radius\": 0.5, \"color\": \"0x33FF38\"}});\n",
       "\tviewer_16101896240576432.setStyle({\"model\": 1},{\"sphere\": {\"radius\": 0.5}});\n",
       "\tviewer_16101896240576432.zoomTo();\n",
       "viewer_16101896240576432.render();\n",
       "});\n",
       "</script>"
      ]
     },
     "metadata": {},
     "output_type": "display_data"
    },
    {
     "data": {
      "text/plain": [
       "<py3Dmol.view at 0x7f0d96b2bfd0>"
      ]
     },
     "execution_count": 13,
     "metadata": {},
     "output_type": "execute_result"
    }
   ],
   "source": [
    "### 模型生成的点云：手动模式\n",
    "# 需要改变样本的编号来切换查看不同的生成点云\n",
    "#\n",
    "\n",
    "tgt_dir = \"from_com\" # \"from_fragment_unchanged_aligned\"\n",
    "#max_i = 50 if tgt_dir == \"from_com\" else 30\n",
    "sample_i = 8 # 1-30或1-50的整数\n",
    "\n",
    "show(f\"3900db_gen_5n25/{tgt_dir}/betas_lig_sample_{sample_i}.sdf\", is_point_cloud=True)"
   ]
  },
  {
   "cell_type": "code",
   "execution_count": null,
   "metadata": {},
   "outputs": [],
   "source": []
  }
 ],
 "metadata": {
  "kernelspec": {
   "display_name": "Python(hiensg)",
   "language": "python",
   "name": "hiensg"
  },
  "language_info": {
   "codemirror_mode": {
    "name": "ipython",
    "version": 3
   },
   "file_extension": ".py",
   "mimetype": "text/x-python",
   "name": "python",
   "nbconvert_exporter": "python",
   "pygments_lexer": "ipython3",
   "version": "3.6.9"
  }
 },
 "nbformat": 4,
 "nbformat_minor": 4
}
