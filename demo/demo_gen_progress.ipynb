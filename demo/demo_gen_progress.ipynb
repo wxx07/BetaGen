{
 "cells": [
  {
   "cell_type": "code",
   "execution_count": 1,
   "metadata": {},
   "outputs": [
    {
     "data": {
      "application/3dmoljs_load.v0": "<div id=\"3dmolviewer_15986969743417866\"  style=\"position: relative; width: 640px; height: 480px\">\n        <p id=\"3dmolwarning_15986969743417866\" style=\"background-color:#ffcccc;color:black\">You appear to be running in JupyterLab (or JavaScript failed to load for some other reason).  You need to install the 3dmol extension: <br>\n        <tt>jupyter labextension install jupyterlab_3dmol</tt></p>\n        </div>\n<script>\n\nvar loadScriptAsync = function(uri){\n  return new Promise((resolve, reject) => {\n    var tag = document.createElement('script');\n    tag.src = uri;\n    tag.async = true;\n    tag.onload = () => {\n      resolve();\n    };\n  var firstScriptTag = document.getElementsByTagName('script')[0];\n  firstScriptTag.parentNode.insertBefore(tag, firstScriptTag);\n});\n};\n\nif(typeof $3Dmolpromise === 'undefined') {\n$3Dmolpromise = null;\n  $3Dmolpromise = loadScriptAsync('https://3dmol.org/build/3Dmol.js');\n}\n\nvar viewer_15986969743417866 = null;\nvar warn = document.getElementById(\"3dmolwarning_15986969743417866\");\nif(warn) {\n    warn.parentNode.removeChild(warn);\n}\n$3Dmolpromise.then(function() {\nviewer_15986969743417866 = $3Dmol.createViewer($(\"#3dmolviewer_15986969743417866\"),{backgroundColor:\"white\"});\n\tviewer_15986969743417866.addModels(\"6lu7_contact_betas\\n     RDKit          3D\\n\\n 27  0  0  0  0  0  0  0  0  0999 V2000\\n   -5.7350   20.1740   67.2530 C   0  0  0  0  0  0  0  0  0  0  0  0\\n   -9.1420    4.4620   73.4830 C   0  0  0  0  0  0  0  0  0  0  0  0\\n  -11.1440    9.0180   71.1200 C   0  0  0  0  0  0  0  0  0  0  0  0\\n   -9.1310    7.8720   70.0540 C   0  0  0  0  0  0  0  0  0  0  0  0\\n  -11.2260    6.1190   69.7530 C   0  0  0  0  0  0  0  0  0  0  0  0\\n  -11.9040    6.8380   71.3950 C   0  0  0  0  0  0  0  0  0  0  0  0\\n  -14.9790    7.5820   71.8200 C   0  0  0  0  0  0  0  0  0  0  0  0\\n  -13.1930   14.6050   71.7970 C   0  0  0  0  0  0  0  0  0  0  0  0\\n  -12.2970   15.4550   71.2600 C   0  0  0  0  0  0  0  0  0  0  0  0\\n  -12.8230   15.3840   72.9300 C   0  0  0  0  0  0  0  0  0  0  0  0\\n   -9.5150   19.1510   67.6520 C   0  0  0  0  0  0  0  0  0  0  0  0\\n  -10.1920   19.3070   66.6580 C   0  0  0  0  0  0  0  0  0  0  0  0\\n  -10.4790   15.6920   68.4820 C   0  0  0  0  0  0  0  0  0  0  0  0\\n   -7.1260   17.5700   67.3850 C   0  0  0  0  0  0  0  0  0  0  0  0\\n   -8.3610   16.3100   66.1870 C   0  0  0  0  0  0  0  0  0  0  0  0\\n  -11.4770   12.9590   68.4410 C   0  0  0  0  0  0  0  0  0  0  0  0\\n  -11.6880   11.2550   69.2020 C   0  0  0  0  0  0  0  0  0  0  0  0\\n   -8.7760    9.6200   67.3740 C   0  0  0  0  0  0  0  0  0  0  0  0\\n  -10.1820   11.2700   67.4240 C   0  0  0  0  0  0  0  0  0  0  0  0\\n  -12.9470   11.7160   63.1600 C   0  0  0  0  0  0  0  0  0  0  0  0\\n  -12.1200   12.6640   63.5080 C   0  0  0  0  0  0  0  0  0  0  0  0\\n  -10.7350   11.9370   63.9740 C   0  0  0  0  0  0  0  0  0  0  0  0\\n  -11.5250   16.5410   64.3640 C   0  0  0  0  0  0  0  0  0  0  0  0\\n  -12.4030   14.8960   64.4540 C   0  0  0  0  0  0  0  0  0  0  0  0\\n  -11.5000   13.3380   65.3970 C   0  0  0  0  0  0  0  0  0  0  0  0\\n  -10.4800   15.3040   65.8730 C   0  0  0  0  0  0  0  0  0  0  0  0\\n  -10.7010   13.7520   67.0620 C   0  0  0  0  0  0  0  0  0  0  0  0\\nM  END\\n$$$$\\nligand_6lu7_native\\n     RDKit          3D\\n\\n 49 51  0  0  0  0  0  0  0  0999 V2000\\n  -12.5830    6.6250   72.3740 N   0  0  0  0  0  0  0  0  0  0  0  0\\n  -11.9430    9.2810   69.9110 N   0  0  0  0  0  0  0  0  0  0  0  0\\n  -11.4520   12.8590   70.0850 N   0  0  0  0  0  0  0  0  0  0  0  0\\n  -13.1660    7.6250   71.4950 C   0  0  0  0  0  0  0  0  0  0  0  0\\n  -10.9550   10.3360   69.6660 C   0  0  0  0  0  0  0  0  0  0  0  0\\n  -12.1240   14.0960   69.7160 C   0  0  0  0  0  0  0  0  0  0  0  0\\n  -12.1150    8.7500   71.2410 C   0  0  0  0  0  0  0  0  0  0  0  0\\n  -11.6630   11.6060   69.2730 C   0  0  0  0  0  0  0  0  0  0  0  0\\n  -11.5820   14.5610   68.3340 C   0  0  0  0  0  0  0  0  0  0  0  0\\n   -7.8300   17.5820   66.7590 C   0  0  0  0  0  0  0  0  0  0  0  0\\n  -11.4660    9.1590   72.1250 O   0  0  0  0  0  0  0  0  0  0  0  0\\n  -12.3810   11.6170   68.3280 O   0  0  0  0  0  0  0  0  0  0  0  0\\n  -10.4110   14.5700   68.1310 O   0  0  0  0  0  0  0  0  0  0  0  0\\n   -8.8400   17.7820   65.7660 O   0  0  0  0  0  0  0  0  0  0  0  0\\n  -14.3970    8.2180   72.1320 C   0  0  0  0  0  0  0  0  0  0  0  0\\n  -10.0040    9.8950   68.5150 C   0  0  0  0  0  0  0  0  0  0  0  0\\n  -11.8250   15.1550   70.7650 C   0  0  0  0  0  0  0  0  0  0  0  0\\n  -13.0010   15.3970   71.7640 C   0  0  0  0  0  0  0  0  0  0  0  0\\n   -9.1300   11.0860   68.0120 C   0  0  0  0  0  0  0  0  0  0  0  0\\n   -9.1160    8.6870   68.9550 C   0  0  0  0  0  0  0  0  0  0  0  0\\n  -13.8340   14.1000   72.0190 C   0  0  0  0  0  0  0  0  0  0  0  0\\n  -12.4870   15.9820   73.0820 C   0  0  0  0  0  0  0  0  0  0  0  0\\n   -5.7390   18.9300   67.3220 C   0  0  0  0  0  0  0  0  0  0  0  0\\n  -10.0480    3.7550   74.5750 O   0  0  0  0  0  0  0  0  0  0  0  0\\n   -5.0670   20.1380   67.5020 C   0  0  0  0  0  0  0  0  0  0  0  0\\n  -10.5850    4.8610   74.1140 N   0  0  0  0  0  0  0  0  0  0  0  0\\n  -10.8480    4.7380   72.8100 C   0  0  0  0  0  0  0  0  0  0  0  0\\n   -5.7440   21.3470   67.3200 C   0  0  0  0  0  0  0  0  0  0  0  0\\n  -10.4250    3.4200   72.4470 C   0  0  0  0  0  0  0  0  0  0  0  0\\n   -7.0850   21.3390   66.9610 C   0  0  0  0  0  0  0  0  0  0  0  0\\n   -9.9240    2.8570   73.6420 C   0  0  0  0  0  0  0  0  0  0  0  0\\n   -7.7600   20.1340   66.7780 C   0  0  0  0  0  0  0  0  0  0  0  0\\n  -12.5240   14.9870   67.2600 N   0  0  0  0  0  0  0  0  0  0  0  0\\n   -9.3450    1.4580   73.8060 C   0  0  0  0  0  0  0  0  0  0  0  0\\n   -7.0820   18.9270   66.9590 C   0  0  0  0  0  0  0  0  0  0  0  0\\n  -11.2380   11.5710   63.2750 N   0  0  0  0  0  0  0  0  0  0  0  0\\n  -10.3540   17.7310   67.4510 O   0  0  0  0  0  0  0  0  0  0  0  0\\n  -13.4400   12.7300   63.4910 O   0  0  0  0  0  0  0  0  0  0  0  0\\n  -11.9930   15.4250   65.9510 C   0  0  0  0  0  0  0  0  0  0  0  0\\n  -12.4990   16.8170   65.6470 C   0  0  0  0  0  0  0  0  0  0  0  0\\n  -11.3650   17.8020   65.2890 C   0  0  0  0  0  0  0  0  0  0  0  0\\n  -10.1670   17.7640   66.2780 C   0  0  0  0  0  0  0  0  0  0  0  0\\n  -12.4560   14.4640   64.8580 C   0  0  0  0  0  0  0  0  0  0  0  0\\n  -11.8270   13.0030   65.0480 C   0  0  0  0  0  0  0  0  0  0  0  0\\n  -10.2150   13.0410   64.7250 C   0  0  0  0  0  0  0  0  0  0  0  0\\n   -9.9250   12.0610   63.8360 C   0  0  0  0  0  0  0  0  0  0  0  0\\n  -12.3830   12.1480   64.2560 C   0  0  0  0  0  0  0  0  0  0  0  0\\n  -11.4750    5.7980   71.8910 C   0  0  0  0  0  0  0  0  0  0  0  0\\n  -11.0620    5.9430   70.7930 O   0  0  0  0  0  0  0  0  0  0  0  0\\n  1  4  1  0\\n  1 48  1  0\\n  2  5  1  0\\n  2  7  1  0\\n  3  6  1  0\\n  3  8  1  0\\n  4  7  1  0\\n  4 15  1  0\\n  5  8  1  0\\n  5 16  1  0\\n  6  9  1  0\\n  6 17  1  0\\n  7 11  2  0\\n  8 12  2  0\\n  9 13  2  0\\n  9 33  1  0\\n 10 14  1  0\\n 10 35  1  0\\n 14 42  1  0\\n 16 19  1  0\\n 16 20  1  0\\n 17 18  1  0\\n 18 21  1  0\\n 18 22  1  0\\n 23 25  4  0\\n 23 35  4  0\\n 24 26  4  0\\n 24 31  4  0\\n 25 28  4  0\\n 26 27  4  0\\n 27 29  4  0\\n 27 48  1  0\\n 28 30  4  0\\n 29 31  4  0\\n 30 32  4  0\\n 31 34  1  0\\n 32 35  4  0\\n 33 39  1  0\\n 36 46  1  0\\n 36 47  1  0\\n 37 42  2  0\\n 38 47  1  0\\n 39 40  1  0\\n 39 43  1  0\\n 40 41  1  0\\n 41 42  1  0\\n 43 44  1  0\\n 44 45  1  0\\n 44 47  1  0\\n 45 46  1  0\\n 48 49  2  0\\nM  END\\n$$$$\\n\",\"sdf\");\n\tviewer_15986969743417866.setStyle({\"model\": 0},{\"sphere\": {\"radius\": 0.5, \"color\": \"0x33FF38\"}});\n\tviewer_15986969743417866.setStyle({\"model\": 1},{\"stick\": {}});\n\tviewer_15986969743417866.zoomTo();\nviewer_15986969743417866.render();\n});\n</script>",
      "text/html": [
       "<div id=\"3dmolviewer_15986969743417866\"  style=\"position: relative; width: 640px; height: 480px\">\n",
       "        <p id=\"3dmolwarning_15986969743417866\" style=\"background-color:#ffcccc;color:black\">You appear to be running in JupyterLab (or JavaScript failed to load for some other reason).  You need to install the 3dmol extension: <br>\n",
       "        <tt>jupyter labextension install jupyterlab_3dmol</tt></p>\n",
       "        </div>\n",
       "<script>\n",
       "\n",
       "var loadScriptAsync = function(uri){\n",
       "  return new Promise((resolve, reject) => {\n",
       "    var tag = document.createElement('script');\n",
       "    tag.src = uri;\n",
       "    tag.async = true;\n",
       "    tag.onload = () => {\n",
       "      resolve();\n",
       "    };\n",
       "  var firstScriptTag = document.getElementsByTagName('script')[0];\n",
       "  firstScriptTag.parentNode.insertBefore(tag, firstScriptTag);\n",
       "});\n",
       "};\n",
       "\n",
       "if(typeof $3Dmolpromise === 'undefined') {\n",
       "$3Dmolpromise = null;\n",
       "  $3Dmolpromise = loadScriptAsync('https://3dmol.org/build/3Dmol.js');\n",
       "}\n",
       "\n",
       "var viewer_15986969743417866 = null;\n",
       "var warn = document.getElementById(\"3dmolwarning_15986969743417866\");\n",
       "if(warn) {\n",
       "    warn.parentNode.removeChild(warn);\n",
       "}\n",
       "$3Dmolpromise.then(function() {\n",
       "viewer_15986969743417866 = $3Dmol.createViewer($(\"#3dmolviewer_15986969743417866\"),{backgroundColor:\"white\"});\n",
       "\tviewer_15986969743417866.addModels(\"6lu7_contact_betas\\n     RDKit          3D\\n\\n 27  0  0  0  0  0  0  0  0  0999 V2000\\n   -5.7350   20.1740   67.2530 C   0  0  0  0  0  0  0  0  0  0  0  0\\n   -9.1420    4.4620   73.4830 C   0  0  0  0  0  0  0  0  0  0  0  0\\n  -11.1440    9.0180   71.1200 C   0  0  0  0  0  0  0  0  0  0  0  0\\n   -9.1310    7.8720   70.0540 C   0  0  0  0  0  0  0  0  0  0  0  0\\n  -11.2260    6.1190   69.7530 C   0  0  0  0  0  0  0  0  0  0  0  0\\n  -11.9040    6.8380   71.3950 C   0  0  0  0  0  0  0  0  0  0  0  0\\n  -14.9790    7.5820   71.8200 C   0  0  0  0  0  0  0  0  0  0  0  0\\n  -13.1930   14.6050   71.7970 C   0  0  0  0  0  0  0  0  0  0  0  0\\n  -12.2970   15.4550   71.2600 C   0  0  0  0  0  0  0  0  0  0  0  0\\n  -12.8230   15.3840   72.9300 C   0  0  0  0  0  0  0  0  0  0  0  0\\n   -9.5150   19.1510   67.6520 C   0  0  0  0  0  0  0  0  0  0  0  0\\n  -10.1920   19.3070   66.6580 C   0  0  0  0  0  0  0  0  0  0  0  0\\n  -10.4790   15.6920   68.4820 C   0  0  0  0  0  0  0  0  0  0  0  0\\n   -7.1260   17.5700   67.3850 C   0  0  0  0  0  0  0  0  0  0  0  0\\n   -8.3610   16.3100   66.1870 C   0  0  0  0  0  0  0  0  0  0  0  0\\n  -11.4770   12.9590   68.4410 C   0  0  0  0  0  0  0  0  0  0  0  0\\n  -11.6880   11.2550   69.2020 C   0  0  0  0  0  0  0  0  0  0  0  0\\n   -8.7760    9.6200   67.3740 C   0  0  0  0  0  0  0  0  0  0  0  0\\n  -10.1820   11.2700   67.4240 C   0  0  0  0  0  0  0  0  0  0  0  0\\n  -12.9470   11.7160   63.1600 C   0  0  0  0  0  0  0  0  0  0  0  0\\n  -12.1200   12.6640   63.5080 C   0  0  0  0  0  0  0  0  0  0  0  0\\n  -10.7350   11.9370   63.9740 C   0  0  0  0  0  0  0  0  0  0  0  0\\n  -11.5250   16.5410   64.3640 C   0  0  0  0  0  0  0  0  0  0  0  0\\n  -12.4030   14.8960   64.4540 C   0  0  0  0  0  0  0  0  0  0  0  0\\n  -11.5000   13.3380   65.3970 C   0  0  0  0  0  0  0  0  0  0  0  0\\n  -10.4800   15.3040   65.8730 C   0  0  0  0  0  0  0  0  0  0  0  0\\n  -10.7010   13.7520   67.0620 C   0  0  0  0  0  0  0  0  0  0  0  0\\nM  END\\n$$$$\\nligand_6lu7_native\\n     RDKit          3D\\n\\n 49 51  0  0  0  0  0  0  0  0999 V2000\\n  -12.5830    6.6250   72.3740 N   0  0  0  0  0  0  0  0  0  0  0  0\\n  -11.9430    9.2810   69.9110 N   0  0  0  0  0  0  0  0  0  0  0  0\\n  -11.4520   12.8590   70.0850 N   0  0  0  0  0  0  0  0  0  0  0  0\\n  -13.1660    7.6250   71.4950 C   0  0  0  0  0  0  0  0  0  0  0  0\\n  -10.9550   10.3360   69.6660 C   0  0  0  0  0  0  0  0  0  0  0  0\\n  -12.1240   14.0960   69.7160 C   0  0  0  0  0  0  0  0  0  0  0  0\\n  -12.1150    8.7500   71.2410 C   0  0  0  0  0  0  0  0  0  0  0  0\\n  -11.6630   11.6060   69.2730 C   0  0  0  0  0  0  0  0  0  0  0  0\\n  -11.5820   14.5610   68.3340 C   0  0  0  0  0  0  0  0  0  0  0  0\\n   -7.8300   17.5820   66.7590 C   0  0  0  0  0  0  0  0  0  0  0  0\\n  -11.4660    9.1590   72.1250 O   0  0  0  0  0  0  0  0  0  0  0  0\\n  -12.3810   11.6170   68.3280 O   0  0  0  0  0  0  0  0  0  0  0  0\\n  -10.4110   14.5700   68.1310 O   0  0  0  0  0  0  0  0  0  0  0  0\\n   -8.8400   17.7820   65.7660 O   0  0  0  0  0  0  0  0  0  0  0  0\\n  -14.3970    8.2180   72.1320 C   0  0  0  0  0  0  0  0  0  0  0  0\\n  -10.0040    9.8950   68.5150 C   0  0  0  0  0  0  0  0  0  0  0  0\\n  -11.8250   15.1550   70.7650 C   0  0  0  0  0  0  0  0  0  0  0  0\\n  -13.0010   15.3970   71.7640 C   0  0  0  0  0  0  0  0  0  0  0  0\\n   -9.1300   11.0860   68.0120 C   0  0  0  0  0  0  0  0  0  0  0  0\\n   -9.1160    8.6870   68.9550 C   0  0  0  0  0  0  0  0  0  0  0  0\\n  -13.8340   14.1000   72.0190 C   0  0  0  0  0  0  0  0  0  0  0  0\\n  -12.4870   15.9820   73.0820 C   0  0  0  0  0  0  0  0  0  0  0  0\\n   -5.7390   18.9300   67.3220 C   0  0  0  0  0  0  0  0  0  0  0  0\\n  -10.0480    3.7550   74.5750 O   0  0  0  0  0  0  0  0  0  0  0  0\\n   -5.0670   20.1380   67.5020 C   0  0  0  0  0  0  0  0  0  0  0  0\\n  -10.5850    4.8610   74.1140 N   0  0  0  0  0  0  0  0  0  0  0  0\\n  -10.8480    4.7380   72.8100 C   0  0  0  0  0  0  0  0  0  0  0  0\\n   -5.7440   21.3470   67.3200 C   0  0  0  0  0  0  0  0  0  0  0  0\\n  -10.4250    3.4200   72.4470 C   0  0  0  0  0  0  0  0  0  0  0  0\\n   -7.0850   21.3390   66.9610 C   0  0  0  0  0  0  0  0  0  0  0  0\\n   -9.9240    2.8570   73.6420 C   0  0  0  0  0  0  0  0  0  0  0  0\\n   -7.7600   20.1340   66.7780 C   0  0  0  0  0  0  0  0  0  0  0  0\\n  -12.5240   14.9870   67.2600 N   0  0  0  0  0  0  0  0  0  0  0  0\\n   -9.3450    1.4580   73.8060 C   0  0  0  0  0  0  0  0  0  0  0  0\\n   -7.0820   18.9270   66.9590 C   0  0  0  0  0  0  0  0  0  0  0  0\\n  -11.2380   11.5710   63.2750 N   0  0  0  0  0  0  0  0  0  0  0  0\\n  -10.3540   17.7310   67.4510 O   0  0  0  0  0  0  0  0  0  0  0  0\\n  -13.4400   12.7300   63.4910 O   0  0  0  0  0  0  0  0  0  0  0  0\\n  -11.9930   15.4250   65.9510 C   0  0  0  0  0  0  0  0  0  0  0  0\\n  -12.4990   16.8170   65.6470 C   0  0  0  0  0  0  0  0  0  0  0  0\\n  -11.3650   17.8020   65.2890 C   0  0  0  0  0  0  0  0  0  0  0  0\\n  -10.1670   17.7640   66.2780 C   0  0  0  0  0  0  0  0  0  0  0  0\\n  -12.4560   14.4640   64.8580 C   0  0  0  0  0  0  0  0  0  0  0  0\\n  -11.8270   13.0030   65.0480 C   0  0  0  0  0  0  0  0  0  0  0  0\\n  -10.2150   13.0410   64.7250 C   0  0  0  0  0  0  0  0  0  0  0  0\\n   -9.9250   12.0610   63.8360 C   0  0  0  0  0  0  0  0  0  0  0  0\\n  -12.3830   12.1480   64.2560 C   0  0  0  0  0  0  0  0  0  0  0  0\\n  -11.4750    5.7980   71.8910 C   0  0  0  0  0  0  0  0  0  0  0  0\\n  -11.0620    5.9430   70.7930 O   0  0  0  0  0  0  0  0  0  0  0  0\\n  1  4  1  0\\n  1 48  1  0\\n  2  5  1  0\\n  2  7  1  0\\n  3  6  1  0\\n  3  8  1  0\\n  4  7  1  0\\n  4 15  1  0\\n  5  8  1  0\\n  5 16  1  0\\n  6  9  1  0\\n  6 17  1  0\\n  7 11  2  0\\n  8 12  2  0\\n  9 13  2  0\\n  9 33  1  0\\n 10 14  1  0\\n 10 35  1  0\\n 14 42  1  0\\n 16 19  1  0\\n 16 20  1  0\\n 17 18  1  0\\n 18 21  1  0\\n 18 22  1  0\\n 23 25  4  0\\n 23 35  4  0\\n 24 26  4  0\\n 24 31  4  0\\n 25 28  4  0\\n 26 27  4  0\\n 27 29  4  0\\n 27 48  1  0\\n 28 30  4  0\\n 29 31  4  0\\n 30 32  4  0\\n 31 34  1  0\\n 32 35  4  0\\n 33 39  1  0\\n 36 46  1  0\\n 36 47  1  0\\n 37 42  2  0\\n 38 47  1  0\\n 39 40  1  0\\n 39 43  1  0\\n 40 41  1  0\\n 41 42  1  0\\n 43 44  1  0\\n 44 45  1  0\\n 44 47  1  0\\n 45 46  1  0\\n 48 49  2  0\\nM  END\\n$$$$\\n\",\"sdf\");\n",
       "\tviewer_15986969743417866.setStyle({\"model\": 0},{\"sphere\": {\"radius\": 0.5, \"color\": \"0x33FF38\"}});\n",
       "\tviewer_15986969743417866.setStyle({\"model\": 1},{\"stick\": {}});\n",
       "\tviewer_15986969743417866.zoomTo();\n",
       "viewer_15986969743417866.render();\n",
       "});\n",
       "</script>"
      ]
     },
     "metadata": {},
     "output_type": "display_data"
    },
    {
     "data": {
      "text/plain": [
       "<py3Dmol.view at 0x7fcefc4f6860>"
      ]
     },
     "execution_count": 1,
     "metadata": {},
     "output_type": "execute_result"
    }
   ],
   "source": [
    "# 配体分子及其周围的beta原子：只保留至少是一个配体原子的最近邻的部分beta原子\n",
    "from utils import show_lig_betas\n",
    "\n",
    "show_lig_betas(\"./betas_lig_cut_nearest_only.sdf\")"
   ]
  },
  {
   "cell_type": "code",
   "execution_count": 2,
   "metadata": {},
   "outputs": [
    {
     "data": {
      "application/vnd.jupyter.widget-view+json": {
       "model_id": "c5bb939f61574da78d00b5076621d3d8",
       "version_major": 2,
       "version_minor": 0
      },
      "text/plain": [
       "interactive(children=(IntSlider(value=1, description='step_i', max=48, min=1), Output()), _dom_classes=('widge…"
      ]
     },
     "metadata": {},
     "output_type": "display_data"
    },
    {
     "data": {
      "text/plain": [
       "<function utils.show_gen_step(step_i)>"
      ]
     },
     "execution_count": 2,
     "metadata": {},
     "output_type": "execute_result"
    }
   ],
   "source": [
    "## 展示native配体从质心开始向外扩展的生成过程\n",
    "from utils import show_gen_step\n",
    "\n",
    "from ipywidgets import interact,fixed,IntSlider\n",
    "import ipywidgets\n",
    "\n",
    "interact(show_gen_step, step_i=ipywidgets.IntSlider(min=1,max=48, step=1))"
   ]
  },
  {
   "cell_type": "code",
   "execution_count": null,
   "metadata": {},
   "outputs": [],
   "source": [
    "###############################################\n",
    "# 新思路：从配体原子出发，beta原子完全作为辅助\n",
    "###############################################"
   ]
  },
  {
   "cell_type": "code",
   "execution_count": 4,
   "metadata": {},
   "outputs": [
    {
     "data": {
      "application/3dmoljs_load.v0": "<div id=\"3dmolviewer_16004249822685149\"  style=\"position: relative; width: 640px; height: 480px\">\n        <p id=\"3dmolwarning_16004249822685149\" style=\"background-color:#ffcccc;color:black\">You appear to be running in JupyterLab (or JavaScript failed to load for some other reason).  You need to install the 3dmol extension: <br>\n        <tt>jupyter labextension install jupyterlab_3dmol</tt></p>\n        </div>\n<script>\n\nvar loadScriptAsync = function(uri){\n  return new Promise((resolve, reject) => {\n    var tag = document.createElement('script');\n    tag.src = uri;\n    tag.async = true;\n    tag.onload = () => {\n      resolve();\n    };\n  var firstScriptTag = document.getElementsByTagName('script')[0];\n  firstScriptTag.parentNode.insertBefore(tag, firstScriptTag);\n});\n};\n\nif(typeof $3Dmolpromise === 'undefined') {\n$3Dmolpromise = null;\n  $3Dmolpromise = loadScriptAsync('https://3dmol.org/build/3Dmol.js');\n}\n\nvar viewer_16004249822685149 = null;\nvar warn = document.getElementById(\"3dmolwarning_16004249822685149\");\nif(warn) {\n    warn.parentNode.removeChild(warn);\n}\n$3Dmolpromise.then(function() {\nviewer_16004249822685149 = $3Dmol.createViewer($(\"#3dmolviewer_16004249822685149\"),{backgroundColor:\"white\"});\n\tviewer_16004249822685149.addModels(\"\\n     RDKit          3D\\n\\n  1  0  0  0  0  0  0  0  0  0999 V2000\\n  -11.5890   11.1770   69.0990 C   0  0  0  0  0  0  0  0  0  0  0  0\\nM  END\\n$$$$\\n\\n     RDKit          3D\\n\\n  1  0  0  0  0  0  0  0  0  0999 V2000\\n  -11.5890   11.1770   69.0990 C   0  0  0  0  0  0  0  0  0  0  0  0\\nM  END\\n$$$$\\n\\n     RDKit          3D\\n\\n  8  0  0  0  0  0  0  0  0  0999 V2000\\n   -8.7760    9.6200   67.3740 C   0  0  0  0  0  0  0  0  0  0  0  0\\n  -11.6880   11.2550   69.2020 C   0  0  0  0  0  0  0  0  0  0  0  0\\n  -11.1440    9.0180   71.1200 C   0  0  0  0  0  0  0  0  0  0  0  0\\n  -13.0140   10.2610   71.4930 C   0  0  0  0  0  0  0  0  0  0  0  0\\n  -11.4770   12.9590   68.4410 C   0  0  0  0  0  0  0  0  0  0  0  0\\n  -12.2000   10.7900   70.5170 C   0  0  0  0  0  0  0  0  0  0  0  0\\n  -10.7010   13.7520   67.0620 C   0  0  0  0  0  0  0  0  0  0  0  0\\n  -10.1820   11.2700   67.4240 C   0  0  0  0  0  0  0  0  0  0  0  0\\nM  END\\n$$$$\\n\\n     RDKit          3D\\n\\n 36  0  0  0  0  0  0  0  0  0999 V2000\\n  -10.9460    6.0580   67.9870 C   0  0  0  0  0  0  0  0  0  0  0  0\\n   -9.1310    7.8720   70.0540 C   0  0  0  0  0  0  0  0  0  0  0  0\\n  -10.7300    7.7030   72.0650 C   0  0  0  0  0  0  0  0  0  0  0  0\\n   -9.7640    7.0900   71.5920 C   0  0  0  0  0  0  0  0  0  0  0  0\\n  -11.2260    6.1190   69.7530 C   0  0  0  0  0  0  0  0  0  0  0  0\\n  -11.9040    6.8380   71.3950 C   0  0  0  0  0  0  0  0  0  0  0  0\\n  -13.7760    8.9510   72.0210 C   0  0  0  0  0  0  0  0  0  0  0  0\\n  -14.9790    7.5820   71.8200 C   0  0  0  0  0  0  0  0  0  0  0  0\\n  -16.3910   14.7210   71.1460 C   0  0  0  0  0  0  0  0  0  0  0  0\\n  -14.5760   14.7150   71.9550 C   0  0  0  0  0  0  0  0  0  0  0  0\\n  -13.1930   14.6050   71.7970 C   0  0  0  0  0  0  0  0  0  0  0  0\\n  -13.6940   13.0220   72.2150 C   0  0  0  0  0  0  0  0  0  0  0  0\\n  -13.1410   14.0720   73.0820 C   0  0  0  0  0  0  0  0  0  0  0  0\\n  -12.0140   15.9510   72.3130 C   0  0  0  0  0  0  0  0  0  0  0  0\\n  -12.2970   15.4550   71.2600 C   0  0  0  0  0  0  0  0  0  0  0  0\\n  -11.4240   15.6970   70.3380 C   0  0  0  0  0  0  0  0  0  0  0  0\\n  -12.3230   15.5730   74.3430 C   0  0  0  0  0  0  0  0  0  0  0  0\\n  -14.0820   16.0080   72.8730 C   0  0  0  0  0  0  0  0  0  0  0  0\\n  -12.8230   15.3840   72.9300 C   0  0  0  0  0  0  0  0  0  0  0  0\\n   -9.5150   19.1510   67.6520 C   0  0  0  0  0  0  0  0  0  0  0  0\\n  -10.1920   19.3070   66.6580 C   0  0  0  0  0  0  0  0  0  0  0  0\\n  -10.4790   15.6920   68.4820 C   0  0  0  0  0  0  0  0  0  0  0  0\\n   -9.2740   16.4270   67.5970 C   0  0  0  0  0  0  0  0  0  0  0  0\\n   -7.5530   15.6180   68.2320 C   0  0  0  0  0  0  0  0  0  0  0  0\\n   -7.1260   17.5700   67.3850 C   0  0  0  0  0  0  0  0  0  0  0  0\\n   -8.3610   16.3100   66.1870 C   0  0  0  0  0  0  0  0  0  0  0  0\\n  -12.9470   11.7160   63.1600 C   0  0  0  0  0  0  0  0  0  0  0  0\\n  -12.1200   12.6640   63.5080 C   0  0  0  0  0  0  0  0  0  0  0  0\\n   -9.8660   10.6420   64.5110 C   0  0  0  0  0  0  0  0  0  0  0  0\\n  -10.7350   11.9370   63.9740 C   0  0  0  0  0  0  0  0  0  0  0  0\\n   -9.3770   11.6500   62.5330 C   0  0  0  0  0  0  0  0  0  0  0  0\\n  -11.5250   16.5410   64.3640 C   0  0  0  0  0  0  0  0  0  0  0  0\\n  -12.4030   14.8960   64.4540 C   0  0  0  0  0  0  0  0  0  0  0  0\\n  -11.5000   13.3380   65.3970 C   0  0  0  0  0  0  0  0  0  0  0  0\\n  -13.2640   13.5970   65.4500 C   0  0  0  0  0  0  0  0  0  0  0  0\\n  -10.4800   15.3040   65.8730 C   0  0  0  0  0  0  0  0  0  0  0  0\\nM  END\\n$$$$\\n\",\"sdf\");\n\tviewer_16004249822685149.setStyle({\"model\": 0},{\"stick\": {}});\n\tviewer_16004249822685149.addStyle({\"model\": 0},{\"sphere\": {\"radius\": 0.5}});\n\tviewer_16004249822685149.setStyle({\"model\": 1},{\"sphere\": {\"radius\": 0.6, \"color\": \"0xF2840F\", \"opacity\": 0.7}});\n\tviewer_16004249822685149.setStyle({\"model\": 2},{\"sphere\": {\"radius\": 0.5, \"color\": \"0x33FF38\"}});\n\tviewer_16004249822685149.setStyle({\"model\": 3},{\"sphere\": {\"radius\": 0.5, \"color\": \"0x33FF38\", \"opacity\": 0.5}});\n\tviewer_16004249822685149.zoomTo();\nviewer_16004249822685149.render();\n});\n</script>",
      "text/html": [
       "<div id=\"3dmolviewer_16004249822685149\"  style=\"position: relative; width: 640px; height: 480px\">\n",
       "        <p id=\"3dmolwarning_16004249822685149\" style=\"background-color:#ffcccc;color:black\">You appear to be running in JupyterLab (or JavaScript failed to load for some other reason).  You need to install the 3dmol extension: <br>\n",
       "        <tt>jupyter labextension install jupyterlab_3dmol</tt></p>\n",
       "        </div>\n",
       "<script>\n",
       "\n",
       "var loadScriptAsync = function(uri){\n",
       "  return new Promise((resolve, reject) => {\n",
       "    var tag = document.createElement('script');\n",
       "    tag.src = uri;\n",
       "    tag.async = true;\n",
       "    tag.onload = () => {\n",
       "      resolve();\n",
       "    };\n",
       "  var firstScriptTag = document.getElementsByTagName('script')[0];\n",
       "  firstScriptTag.parentNode.insertBefore(tag, firstScriptTag);\n",
       "});\n",
       "};\n",
       "\n",
       "if(typeof $3Dmolpromise === 'undefined') {\n",
       "$3Dmolpromise = null;\n",
       "  $3Dmolpromise = loadScriptAsync('https://3dmol.org/build/3Dmol.js');\n",
       "}\n",
       "\n",
       "var viewer_16004249822685149 = null;\n",
       "var warn = document.getElementById(\"3dmolwarning_16004249822685149\");\n",
       "if(warn) {\n",
       "    warn.parentNode.removeChild(warn);\n",
       "}\n",
       "$3Dmolpromise.then(function() {\n",
       "viewer_16004249822685149 = $3Dmol.createViewer($(\"#3dmolviewer_16004249822685149\"),{backgroundColor:\"white\"});\n",
       "\tviewer_16004249822685149.addModels(\"\\n     RDKit          3D\\n\\n  1  0  0  0  0  0  0  0  0  0999 V2000\\n  -11.5890   11.1770   69.0990 C   0  0  0  0  0  0  0  0  0  0  0  0\\nM  END\\n$$$$\\n\\n     RDKit          3D\\n\\n  1  0  0  0  0  0  0  0  0  0999 V2000\\n  -11.5890   11.1770   69.0990 C   0  0  0  0  0  0  0  0  0  0  0  0\\nM  END\\n$$$$\\n\\n     RDKit          3D\\n\\n  8  0  0  0  0  0  0  0  0  0999 V2000\\n   -8.7760    9.6200   67.3740 C   0  0  0  0  0  0  0  0  0  0  0  0\\n  -11.6880   11.2550   69.2020 C   0  0  0  0  0  0  0  0  0  0  0  0\\n  -11.1440    9.0180   71.1200 C   0  0  0  0  0  0  0  0  0  0  0  0\\n  -13.0140   10.2610   71.4930 C   0  0  0  0  0  0  0  0  0  0  0  0\\n  -11.4770   12.9590   68.4410 C   0  0  0  0  0  0  0  0  0  0  0  0\\n  -12.2000   10.7900   70.5170 C   0  0  0  0  0  0  0  0  0  0  0  0\\n  -10.7010   13.7520   67.0620 C   0  0  0  0  0  0  0  0  0  0  0  0\\n  -10.1820   11.2700   67.4240 C   0  0  0  0  0  0  0  0  0  0  0  0\\nM  END\\n$$$$\\n\\n     RDKit          3D\\n\\n 36  0  0  0  0  0  0  0  0  0999 V2000\\n  -10.9460    6.0580   67.9870 C   0  0  0  0  0  0  0  0  0  0  0  0\\n   -9.1310    7.8720   70.0540 C   0  0  0  0  0  0  0  0  0  0  0  0\\n  -10.7300    7.7030   72.0650 C   0  0  0  0  0  0  0  0  0  0  0  0\\n   -9.7640    7.0900   71.5920 C   0  0  0  0  0  0  0  0  0  0  0  0\\n  -11.2260    6.1190   69.7530 C   0  0  0  0  0  0  0  0  0  0  0  0\\n  -11.9040    6.8380   71.3950 C   0  0  0  0  0  0  0  0  0  0  0  0\\n  -13.7760    8.9510   72.0210 C   0  0  0  0  0  0  0  0  0  0  0  0\\n  -14.9790    7.5820   71.8200 C   0  0  0  0  0  0  0  0  0  0  0  0\\n  -16.3910   14.7210   71.1460 C   0  0  0  0  0  0  0  0  0  0  0  0\\n  -14.5760   14.7150   71.9550 C   0  0  0  0  0  0  0  0  0  0  0  0\\n  -13.1930   14.6050   71.7970 C   0  0  0  0  0  0  0  0  0  0  0  0\\n  -13.6940   13.0220   72.2150 C   0  0  0  0  0  0  0  0  0  0  0  0\\n  -13.1410   14.0720   73.0820 C   0  0  0  0  0  0  0  0  0  0  0  0\\n  -12.0140   15.9510   72.3130 C   0  0  0  0  0  0  0  0  0  0  0  0\\n  -12.2970   15.4550   71.2600 C   0  0  0  0  0  0  0  0  0  0  0  0\\n  -11.4240   15.6970   70.3380 C   0  0  0  0  0  0  0  0  0  0  0  0\\n  -12.3230   15.5730   74.3430 C   0  0  0  0  0  0  0  0  0  0  0  0\\n  -14.0820   16.0080   72.8730 C   0  0  0  0  0  0  0  0  0  0  0  0\\n  -12.8230   15.3840   72.9300 C   0  0  0  0  0  0  0  0  0  0  0  0\\n   -9.5150   19.1510   67.6520 C   0  0  0  0  0  0  0  0  0  0  0  0\\n  -10.1920   19.3070   66.6580 C   0  0  0  0  0  0  0  0  0  0  0  0\\n  -10.4790   15.6920   68.4820 C   0  0  0  0  0  0  0  0  0  0  0  0\\n   -9.2740   16.4270   67.5970 C   0  0  0  0  0  0  0  0  0  0  0  0\\n   -7.5530   15.6180   68.2320 C   0  0  0  0  0  0  0  0  0  0  0  0\\n   -7.1260   17.5700   67.3850 C   0  0  0  0  0  0  0  0  0  0  0  0\\n   -8.3610   16.3100   66.1870 C   0  0  0  0  0  0  0  0  0  0  0  0\\n  -12.9470   11.7160   63.1600 C   0  0  0  0  0  0  0  0  0  0  0  0\\n  -12.1200   12.6640   63.5080 C   0  0  0  0  0  0  0  0  0  0  0  0\\n   -9.8660   10.6420   64.5110 C   0  0  0  0  0  0  0  0  0  0  0  0\\n  -10.7350   11.9370   63.9740 C   0  0  0  0  0  0  0  0  0  0  0  0\\n   -9.3770   11.6500   62.5330 C   0  0  0  0  0  0  0  0  0  0  0  0\\n  -11.5250   16.5410   64.3640 C   0  0  0  0  0  0  0  0  0  0  0  0\\n  -12.4030   14.8960   64.4540 C   0  0  0  0  0  0  0  0  0  0  0  0\\n  -11.5000   13.3380   65.3970 C   0  0  0  0  0  0  0  0  0  0  0  0\\n  -13.2640   13.5970   65.4500 C   0  0  0  0  0  0  0  0  0  0  0  0\\n  -10.4800   15.3040   65.8730 C   0  0  0  0  0  0  0  0  0  0  0  0\\nM  END\\n$$$$\\n\",\"sdf\");\n",
       "\tviewer_16004249822685149.setStyle({\"model\": 0},{\"stick\": {}});\n",
       "\tviewer_16004249822685149.addStyle({\"model\": 0},{\"sphere\": {\"radius\": 0.5}});\n",
       "\tviewer_16004249822685149.setStyle({\"model\": 1},{\"sphere\": {\"radius\": 0.6, \"color\": \"0xF2840F\", \"opacity\": 0.7}});\n",
       "\tviewer_16004249822685149.setStyle({\"model\": 2},{\"sphere\": {\"radius\": 0.5, \"color\": \"0x33FF38\"}});\n",
       "\tviewer_16004249822685149.setStyle({\"model\": 3},{\"sphere\": {\"radius\": 0.5, \"color\": \"0x33FF38\", \"opacity\": 0.5}});\n",
       "\tviewer_16004249822685149.zoomTo();\n",
       "viewer_16004249822685149.render();\n",
       "});\n",
       "</script>"
      ]
     },
     "metadata": {},
     "output_type": "display_data"
    },
    {
     "data": {
      "text/plain": [
       "<py3Dmol.view at 0x7f8f6429bd68>"
      ]
     },
     "metadata": {},
     "output_type": "display_data"
    },
    {
     "data": {
      "text/plain": [
       "<function __main__.show_gen_step_(step_i)>"
      ]
     },
     "execution_count": 4,
     "metadata": {},
     "output_type": "execute_result"
    }
   ],
   "source": [
    "### show\n",
    "\n",
    "from ipywidgets import interact,fixed,IntSlider\n",
    "import ipywidgets\n",
    "\n",
    "from utils import show_gen_step2\n",
    "\n",
    "def show_gen_step_(step_i):\n",
    "    return show_gen_step2(f\"allbetas_focus/hit_4\",step_i,\n",
    "                          last_step=False if step_i < 25 else True,\n",
    "                          opacity=0.7, show_all_atlast=True, show_nnhb_betas=True)\n",
    "\n",
    "interact(show_gen_step_, step_i=ipywidgets.IntSlider(min=0,max=25, step=1))"
   ]
  },
  {
   "cell_type": "code",
   "execution_count": null,
   "metadata": {},
   "outputs": [],
   "source": []
  },
  {
   "cell_type": "code",
   "execution_count": null,
   "metadata": {},
   "outputs": [],
   "source": []
  }
 ],
 "metadata": {
  "kernelspec": {
   "display_name": "Python(hiensg)",
   "language": "python",
   "name": "hiensg"
  },
  "language_info": {
   "codemirror_mode": {
    "name": "ipython",
    "version": 3
   },
   "file_extension": ".py",
   "mimetype": "text/x-python",
   "name": "python",
   "nbconvert_exporter": "python",
   "pygments_lexer": "ipython3",
   "version": "3.6.9"
  }
 },
 "nbformat": 4,
 "nbformat_minor": 4
}
